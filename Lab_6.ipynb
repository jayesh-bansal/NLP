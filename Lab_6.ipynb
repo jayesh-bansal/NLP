{
  "nbformat": 4,
  "nbformat_minor": 0,
  "metadata": {
    "colab": {
      "provenance": [],
      "include_colab_link": true
    },
    "kernelspec": {
      "name": "python3",
      "display_name": "Python 3"
    },
    "language_info": {
      "name": "python"
    }
  },
  "cells": [
    {
      "cell_type": "markdown",
      "metadata": {
        "id": "view-in-github",
        "colab_type": "text"
      },
      "source": [
        "<a href=\"https://colab.research.google.com/github/jayesh-bansal/NLP/blob/main/Lab_6.ipynb\" target=\"_parent\"><img src=\"https://colab.research.google.com/assets/colab-badge.svg\" alt=\"Open In Colab\"/></a>"
      ]
    },
    {
      "cell_type": "markdown",
      "source": [
        "# Load Spacy model for Linguistic Structure and Dependency Parsing\n"
      ],
      "metadata": {
        "id": "26WoSksI_G7H"
      }
    },
    {
      "cell_type": "code",
      "source": [
        "#Importing the Spacy to run the Programme\n",
        "import spacy"
      ],
      "metadata": {
        "id": "TXum1ixhA6_5"
      },
      "execution_count": null,
      "outputs": []
    },
    {
      "cell_type": "code",
      "execution_count": null,
      "metadata": {
        "id": "ttUHNg8F_DPw"
      },
      "outputs": [],
      "source": [
        "#This will Load the small and medium English language model, well It contains the English Vocubularys,entities and etc.\n",
        "NLP = spacy.load(\"en_core_web_sm\")"
      ]
    },
    {
      "cell_type": "code",
      "source": [
        "#Example Sentence\n",
        "Sentence = \"I'am Monkey D. Luffy and I'am going to become the King of the Pirates\"\n",
        "print(Sentence)"
      ],
      "metadata": {
        "colab": {
          "base_uri": "https://localhost:8080/"
        },
        "id": "U_fz63JrBIrU",
        "outputId": "782aff70-2967-48ab-a5f2-da75792fa52e"
      },
      "execution_count": null,
      "outputs": [
        {
          "output_type": "stream",
          "name": "stdout",
          "text": [
            "I'am Monkey D. Luffy and I'am going to become the King of the Pirates\n"
          ]
        }
      ]
    },
    {
      "cell_type": "code",
      "source": [
        "#Parse Sentence for Analysis means [we take it apart to determine what function each unit in the sentence has.]\n",
        "doc=NLP(Sentence)\n",
        "print(doc)"
      ],
      "metadata": {
        "colab": {
          "base_uri": "https://localhost:8080/"
        },
        "id": "RYGiZCJCBamA",
        "outputId": "ea0fd69c-2a7f-4630-a694-58a706351e3a"
      },
      "execution_count": null,
      "outputs": [
        {
          "output_type": "stream",
          "name": "stdout",
          "text": [
            "I'am Monkey D. Luffy and I'am going to become the King of the Pirates\n"
          ]
        }
      ]
    },
    {
      "cell_type": "code",
      "source": [
        "# Displaying the  linguistic structure and dependency parsing\n",
        "for i in doc:\n",
        "    print(f\"Word: {i.text}, POS: {i.pos_}, Dependency: {i.dep_}, Head: {i.head.text}\")  #POS = Part's of Speech"
      ],
      "metadata": {
        "colab": {
          "base_uri": "https://localhost:8080/"
        },
        "id": "TcTPSnJQBysQ",
        "outputId": "ba7f0a53-a916-4cfa-84c9-d0b6b0eafff9"
      },
      "execution_count": null,
      "outputs": [
        {
          "output_type": "stream",
          "name": "stdout",
          "text": [
            "Word: I'am, POS: PROPN, Dependency: compound, Head: Luffy\n",
            "Word: Monkey, POS: PROPN, Dependency: compound, Head: Luffy\n",
            "Word: D., POS: PROPN, Dependency: compound, Head: Luffy\n",
            "Word: Luffy, POS: PROPN, Dependency: nsubj, Head: going\n",
            "Word: and, POS: CCONJ, Dependency: cc, Head: Luffy\n",
            "Word: I'am, POS: PROPN, Dependency: conj, Head: Luffy\n",
            "Word: going, POS: VERB, Dependency: ROOT, Head: going\n",
            "Word: to, POS: PART, Dependency: aux, Head: become\n",
            "Word: become, POS: VERB, Dependency: xcomp, Head: going\n",
            "Word: the, POS: DET, Dependency: det, Head: King\n",
            "Word: King, POS: PROPN, Dependency: attr, Head: become\n",
            "Word: of, POS: ADP, Dependency: prep, Head: King\n",
            "Word: the, POS: DET, Dependency: det, Head: Pirates\n",
            "Word: Pirates, POS: PROPN, Dependency: pobj, Head: of\n"
          ]
        }
      ]
    }
  ]
}
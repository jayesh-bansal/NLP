{
  "nbformat": 4,
  "nbformat_minor": 0,
  "metadata": {
    "colab": {
      "provenance": [],
      "include_colab_link": true
    },
    "kernelspec": {
      "name": "python3",
      "display_name": "Python 3"
    },
    "language_info": {
      "name": "python"
    }
  },
  "cells": [
    {
      "cell_type": "markdown",
      "metadata": {
        "id": "view-in-github",
        "colab_type": "text"
      },
      "source": [
        "<a href=\"https://colab.research.google.com/github/jayesh-bansal/NLP/blob/main/Assignment_3.ipynb\" target=\"_parent\"><img src=\"https://colab.research.google.com/assets/colab-badge.svg\" alt=\"Open In Colab\"/></a>"
      ]
    },
    {
      "cell_type": "markdown",
      "source": [
        "# ASSIGNMENT 03"
      ],
      "metadata": {
        "id": "QxXh37siB3S0"
      }
    },
    {
      "cell_type": "markdown",
      "source": [
        "* Implement Word Embeddings"
      ],
      "metadata": {
        "id": "8kqRLL6DBISl"
      }
    },
    {
      "cell_type": "code",
      "execution_count": null,
      "metadata": {
        "id": "6gzGdzoo_1NT"
      },
      "outputs": [],
      "source": [
        "words = ['king', 'queen', 'man', 'woman', 'paris', 'france', 'london', 'england']"
      ]
    },
    {
      "cell_type": "markdown",
      "source": [],
      "metadata": {
        "id": "9XwoLWQwBxZU"
      }
    },
    {
      "cell_type": "code",
      "source": [
        "import gensim.downloader as api\n",
        "model=api.load(\"glove-wiki-gigaword-50\")\n",
        "words=['king','queen','man','woman','paris','france','london','england']\n",
        "for word in words:\n",
        "    if word in model:\n",
        "        vector=model[word]\n",
        "        print(f\"Word: {word}\\nVector: {vector[:5]}....\\n\")\n",
        "    else:\n",
        "        print(f\"Word:{word} not in vocabulary.\\n\")\n"
      ],
      "metadata": {
        "colab": {
          "base_uri": "https://localhost:8080/"
        },
        "id": "eJ5OM5XwAIGr",
        "outputId": "f4cb0462-0b62-49bd-cfc9-e66844ac4c70"
      },
      "execution_count": null,
      "outputs": [
        {
          "output_type": "stream",
          "name": "stdout",
          "text": [
            "Word: king\n",
            "Vector: [ 0.50451   0.68607  -0.59517  -0.022801  0.60046 ]....\n",
            "\n",
            "Word: queen\n",
            "Vector: [ 0.37854  1.8233  -1.2648  -0.1043   0.35829]....\n",
            "\n",
            "Word: man\n",
            "Vector: [-0.094386  0.43007  -0.17224  -0.45529   1.6447  ]....\n",
            "\n",
            "Word: woman\n",
            "Vector: [-0.18153  0.64827 -0.5821  -0.49451  1.5415 ]....\n",
            "\n",
            "Word: paris\n",
            "Vector: [ 0.76989  1.181   -1.1299  -0.74725 -0.5969 ]....\n",
            "\n",
            "Word: france\n",
            "Vector: [ 0.66571  0.29845 -1.0467  -0.66932 -0.78082]....\n",
            "\n",
            "Word: london\n",
            "Vector: [ 0.032886  0.99637  -0.6975   -0.58375   0.053403]....\n",
            "\n",
            "Word: england\n",
            "Vector: [-0.36165 -0.10607 -1.1168  -0.6727  -0.16521]....\n",
            "\n"
          ]
        }
      ]
    },
    {
      "cell_type": "markdown",
      "source": [
        "* Implement Word Embeddings using PCA (Principal Component Analysis) on following text:"
      ],
      "metadata": {
        "id": "uFQZUHr0BD9e"
      }
    },
    {
      "cell_type": "code",
      "source": [
        "words = ['king', 'queen', 'man', 'woman', 'paris', 'france', 'london', 'england']."
      ],
      "metadata": {
        "id": "vgRb1iAPAP7X"
      },
      "execution_count": null,
      "outputs": []
    },
    {
      "cell_type": "code",
      "source": [
        "import gensim.downloader as api\n",
        "from sklearn.decomposition import PCA\n",
        "import matplotlib.pyplot as plt\n",
        "import numpy as np\n"
      ],
      "metadata": {
        "id": "S3a19WLPAqam"
      },
      "execution_count": null,
      "outputs": []
    },
    {
      "cell_type": "code",
      "source": [
        "model=api.load(\"glove-wiki-gigaword-50\")\n",
        "words=['king','queen','man','woman','paris','france','london','england']\n",
        "embeddings=[model[word] for word in words]\n",
        "pca=PCA(n_components=2)\n",
        "reduced_embeddings=pca.fit_transform(embeddings)\n",
        "plt.figure(figsize=(8,6))"
      ],
      "metadata": {
        "colab": {
          "base_uri": "https://localhost:8080/",
          "height": 52
        },
        "id": "yZ4grxqUBREF",
        "outputId": "8b84d490-01d9-4a82-cd33-bba348dee008"
      },
      "execution_count": null,
      "outputs": [
        {
          "output_type": "execute_result",
          "data": {
            "text/plain": [
              "<Figure size 800x600 with 0 Axes>"
            ]
          },
          "metadata": {},
          "execution_count": 4
        },
        {
          "output_type": "display_data",
          "data": {
            "text/plain": [
              "<Figure size 800x600 with 0 Axes>"
            ]
          },
          "metadata": {}
        }
      ]
    },
    {
      "cell_type": "code",
      "source": [
        "for i,word in enumerate(words):\n",
        "    plt.scatter(reduced_embeddings[i, 0], reduced_embeddings[i, 1])\n",
        "    plt.text(reduced_embeddings[i, 0] + 0.01, reduced_embeddings[i, 1] + 0.01, word, fontsize=12)\n",
        "\n",
        "plt.title(\"Word Embeddings\")\n",
        "plt.xlabel(\"Principal Components 1\")\n",
        "plt.ylabel(\"Principal Components 2\")\n",
        "plt.grid(True)\n",
        "plt.show()"
      ],
      "metadata": {
        "colab": {
          "base_uri": "https://localhost:8080/",
          "height": 472
        },
        "id": "yhm-v-R4BVJw",
        "outputId": "e727850b-88cf-433a-c532-f24516033889"
      },
      "execution_count": null,
      "outputs": [
        {
          "output_type": "display_data",
          "data": {
            "text/plain": [
              "<Figure size 640x480 with 1 Axes>"
            ],
            "image/png": "[encoded data removed]"
          },
          "metadata": {}
        }
      ]
    },
    {
      "cell_type": "markdown",
      "source": [
        "* Execute Dependency Parsing on any text or on following text : The quick brown fox jumps over the lazy dog"
      ],
      "metadata": {
        "id": "XbLu2UcSBkn1"
      }
    },
    {
      "cell_type": "code",
      "source": [
        "import spacy\n",
        "nlp=spacy.load(\"en_core_web_sm\")\n",
        "sentence=\"The quick brown fox jumps over the lazy dog.\"\n",
        "doc=nlp(sentence)\n",
        "for token in doc:\n",
        "    print(f\"Word:{token.text}, POS:{token.pos_}, Dependency:{token.dep_}, Head:{token.head.text}\")"
      ],
      "metadata": {
        "colab": {
          "base_uri": "https://localhost:8080/"
        },
        "id": "BidI3FLuBrKt",
        "outputId": "7bf69686-2c81-4b26-c8c9-245e32eadfee"
      },
      "execution_count": null,
      "outputs": [
        {
          "output_type": "stream",
          "name": "stdout",
          "text": [
            "Word:The, POS:DET, Dependency:det, Head:fox\n",
            "Word:quick, POS:ADJ, Dependency:amod, Head:fox\n",
            "Word:brown, POS:ADJ, Dependency:amod, Head:fox\n",
            "Word:fox, POS:NOUN, Dependency:nsubj, Head:jumps\n",
            "Word:jumps, POS:VERB, Dependency:ROOT, Head:jumps\n",
            "Word:over, POS:ADP, Dependency:prep, Head:jumps\n",
            "Word:the, POS:DET, Dependency:det, Head:dog\n",
            "Word:lazy, POS:ADJ, Dependency:amod, Head:dog\n",
            "Word:dog, POS:NOUN, Dependency:pobj, Head:over\n",
            "Word:., POS:PUNCT, Dependency:punct, Head:jumps\n"
          ]
        }
      ]
    }
  ]
}
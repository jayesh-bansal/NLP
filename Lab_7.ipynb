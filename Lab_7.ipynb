{
  "nbformat": 4,
  "nbformat_minor": 0,
  "metadata": {
    "colab": {
      "provenance": [],
      "include_colab_link": true
    },
    "kernelspec": {
      "name": "python3",
      "display_name": "Python 3"
    },
    "language_info": {
      "name": "python"
    }
  },
  "cells": [
    {
      "cell_type": "markdown",
      "metadata": {
        "id": "view-in-github",
        "colab_type": "text"
      },
      "source": [
        "<a href=\"https://colab.research.google.com/github/jayesh-bansal/NLP/blob/main/Lab_7.ipynb\" target=\"_parent\"><img src=\"https://colab.research.google.com/assets/colab-badge.svg\" alt=\"Open In Colab\"/></a>"
      ]
    },
    {
      "cell_type": "markdown",
      "source": [
        "# Hidden Markov Models"
      ],
      "metadata": {
        "id": "Vzbf9BK3PeEL"
      }
    },
    {
      "cell_type": "code",
      "execution_count": null,
      "metadata": {
        "colab": {
          "base_uri": "https://localhost:8080/"
        },
        "id": "DYszuwdvBA2F",
        "outputId": "12991fe0-e457-4226-87df-fd8c1176b08c"
      },
      "outputs": [
        {
          "output_type": "stream",
          "name": "stdout",
          "text": [
            "Collecting hmmlearn\n",
            "  Downloading hmmlearn-0.3.2-cp310-cp310-manylinux_2_17_x86_64.manylinux2014_x86_64.whl.metadata (2.9 kB)\n",
            "Requirement already satisfied: numpy>=1.10 in /usr/local/lib/python3.10/dist-packages (from hmmlearn) (1.26.4)\n",
            "Requirement already satisfied: scikit-learn!=0.22.0,>=0.16 in /usr/local/lib/python3.10/dist-packages (from hmmlearn) (1.3.2)\n",
            "Requirement already satisfied: scipy>=0.19 in /usr/local/lib/python3.10/dist-packages (from hmmlearn) (1.13.1)\n",
            "Requirement already satisfied: joblib>=1.1.1 in /usr/local/lib/python3.10/dist-packages (from scikit-learn!=0.22.0,>=0.16->hmmlearn) (1.4.2)\n",
            "Requirement already satisfied: threadpoolctl>=2.0.0 in /usr/local/lib/python3.10/dist-packages (from scikit-learn!=0.22.0,>=0.16->hmmlearn) (3.5.0)\n",
            "Downloading hmmlearn-0.3.2-cp310-cp310-manylinux_2_17_x86_64.manylinux2014_x86_64.whl (161 kB)\n",
            "\u001b[2K   \u001b[90m━━━━━━━━━━━━━━━━━━━━━━━━━━━━━━━━━━━━━━━━\u001b[0m \u001b[32m161.1/161.1 kB\u001b[0m \u001b[31m5.1 MB/s\u001b[0m eta \u001b[36m0:00:00\u001b[0m\n",
            "\u001b[?25hInstalling collected packages: hmmlearn\n",
            "Successfully installed hmmlearn-0.3.2\n"
          ]
        }
      ],
      "source": [
        "#Installing hmmlearn (Hidden Markov Models)\n",
        "! pip install hmmlearn"
      ]
    },
    {
      "cell_type": "code",
      "source": [
        "import numpy as np\n",
        "from hmmlearn import hmm"
      ],
      "metadata": {
        "id": "qxl3MAw8Bfpc"
      },
      "execution_count": null,
      "outputs": []
    },
    {
      "cell_type": "code",
      "source": [
        "# States and observations\n",
        "states = [\"Sunny\", \"Rainy\"]\n",
        "no_of_states = len(states)\n",
        "\n",
        "#printing the length of array in the states\n",
        "print(no_of_states)"
      ],
      "metadata": {
        "colab": {
          "base_uri": "https://localhost:8080/"
        },
        "id": "mM4tdzUwBjvX",
        "outputId": "7c774f2d-0884-4718-b25f-0b4431c3deb4"
      },
      "execution_count": null,
      "outputs": [
        {
          "output_type": "stream",
          "name": "stdout",
          "text": [
            "2\n"
          ]
        }
      ]
    },
    {
      "cell_type": "code",
      "source": [
        "observations = [\"Dry\", \"Damp\", \"Wet\"]\n",
        "no_of_observations = len(observations)\n",
        "print(no_of_observations)"
      ],
      "metadata": {
        "colab": {
          "base_uri": "https://localhost:8080/"
        },
        "id": "udMVYbcmDgB_",
        "outputId": "dedea378-e657-4303-9cdc-e4009904e0f9"
      },
      "execution_count": null,
      "outputs": [
        {
          "output_type": "stream",
          "name": "stdout",
          "text": [
            "3\n"
          ]
        }
      ]
    },
    {
      "cell_type": "code",
      "source": [
        "# Transition probabilities (A)\n",
        "transition_prob = np.array([\n",
        "    [0.7, 0.3],  # Sunny -> Sunny, Sunny -> Rainy\n",
        "    [0.4, 0.6],  # Rainy -> Sunny, Rainy -> Rainy\n",
        "])"
      ],
      "metadata": {
        "id": "T8-Bk7ptEV7I"
      },
      "execution_count": null,
      "outputs": []
    },
    {
      "cell_type": "code",
      "source": [
        "#Emission probabilities (B)\n",
        "emission_prob = np.array([\n",
        "    [0.8, 0.15, 0.05],  # Sunny -> Dry, Damp, Wet\n",
        "    [0.1, 0.35, 0.55]   # Rainy -> Dry, Damp, Wet\n",
        "])"
      ],
      "metadata": {
        "id": "yaKGf6xlEd4S"
      },
      "execution_count": null,
      "outputs": []
    },
    {
      "cell_type": "code",
      "source": [
        "# Initial probabilities (π)\n",
        "start_prob = np.array([0.6, 0.4])  # Sunny, Rainy"
      ],
      "metadata": {
        "id": "wJZCHBnTElnC"
      },
      "execution_count": null,
      "outputs": []
    },
    {
      "cell_type": "code",
      "source": [
        "# Create HMM model\n",
        "model = hmm.MultinomialHMM(n_components=no_of_states)\n",
        "model.startprob_ = start_prob\n",
        "model.transmat_ = transition_prob\n",
        "model.emissionprob_ = emission_prob\n"
      ],
      "metadata": {
        "colab": {
          "base_uri": "https://localhost:8080/"
        },
        "collapsed": true,
        "id": "5q1TxrxXEpTg",
        "outputId": "6278c5d4-4f6e-43da-b653-e3c4b82aa21b"
      },
      "execution_count": null,
      "outputs": [
        {
          "output_type": "stream",
          "name": "stderr",
          "text": [
            "WARNING:hmmlearn.hmm:MultinomialHMM has undergone major changes. The previous version was implementing a CategoricalHMM (a special case of MultinomialHMM). This new implementation follows the standard definition for a Multinomial distribution (e.g. as in https://en.wikipedia.org/wiki/Multinomial_distribution). See these issues for details:\n",
            "https://github.com/hmmlearn/hmmlearn/issues/335\n",
            "https://github.com/hmmlearn/hmmlearn/issues/340\n"
          ]
        }
      ]
    },
    {
      "cell_type": "code",
      "source": [
        "# Define the sequence of observations: 0 -> Dry, 1 -> Damp, 2 -> Wet\n",
        "# Reshape the sequence for the model (n_samples, 1)\n",
        "observation_sequence = np.array([0, 1, 2, 0, 1]).reshape(-1, 1)  # Example observation sequence"
      ],
      "metadata": {
        "id": "Lv735aqPFIAI"
      },
      "execution_count": null,
      "outputs": []
    },
    {
      "cell_type": "code",
      "source": [
        "# Predict the hidden states based on the observation sequence using the Viterbi algorithm\n",
        "#logprob, hidden_states = model.decode(observation_sequence, algorithm=\"viterbi\")\n",
        "print(\"Observation sequence:\", [observations[i[0]] for i in observation_sequence])\n",
        "#print(\"Predicted hidden states:\", [states[i] for i in hidden_states])\n",
        "\n",
        "# Change the observation sequence and see how the model's predictions change\n",
        "new_observation_sequence = np.array([2, 2, 1, 0]).reshape(-1, 1)  # Example: Wet -> Wet -> Damp -> Dry\n",
        "#logprob_new, hidden_states_new = model.decode(new_observation_sequence, algorithm=\"viterbi\")\n",
        "print(\"New Observation sequence:\", [observations[i[0]] for i in new_observation_sequence])"
      ],
      "metadata": {
        "colab": {
          "base_uri": "https://localhost:8080/"
        },
        "id": "9joMvFGXFQHa",
        "outputId": "e051e604-0b07-4a47-9db4-1d919a73af32"
      },
      "execution_count": null,
      "outputs": [
        {
          "output_type": "stream",
          "name": "stdout",
          "text": [
            "Observation sequence: ['Dry', 'Damp', 'Wet', 'Dry', 'Damp']\n",
            "New Observation sequence: ['Wet', 'Wet', 'Damp', 'Dry']\n"
          ]
        }
      ]
    }
  ]
}
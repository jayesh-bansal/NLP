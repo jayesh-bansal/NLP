{
  "nbformat": 4,
  "nbformat_minor": 0,
  "metadata": {
    "colab": {
      "provenance": [],
      "include_colab_link": true
    },
    "kernelspec": {
      "name": "python3",
      "display_name": "Python 3"
    },
    "language_info": {
      "name": "python"
    }
  },
  "cells": [
    {
      "cell_type": "markdown",
      "metadata": {
        "id": "view-in-github",
        "colab_type": "text"
      },
      "source": [
        "<a href=\"https://colab.research.google.com/github/jayesh-bansal/NLP/blob/main/Assignment_5.ipynb\" target=\"_parent\"><img src=\"https://colab.research.google.com/assets/colab-badge.svg\" alt=\"Open In Colab\"/></a>"
      ]
    },
    {
      "cell_type": "markdown",
      "source": [
        "# **Assignment 05**"
      ],
      "metadata": {
        "id": "8NHGyDU8RA-S"
      }
    },
    {
      "cell_type": "markdown",
      "source": [
        "# Implement a Hidden Markov Model (HMM) for weather forecasting, taking scenario where we have hidden weather states (e.g., \"Sunny\" and \"Rainy\") and observable events (e.g., \"Dry\", \"Damp\", \"Wet\"). The goal is to predict the sequence of weather states based on the observations.\n",
        "\n",
        "* Problem Setup\n",
        "\n",
        "* States (S): Hidden states representing the weather (e.g., \"Sunny\", \"Rainy\"). Observations (O): Observable events that we can measure (e.g., \"Dry\", \"Damp\", \"Wet\"). Transition Probabilities (A): The probability of transitioning from one weather state to another.\n"
      ],
      "metadata": {
        "id": "aKOa9FC3QJhQ"
      }
    },
    {
      "cell_type": "code",
      "execution_count": null,
      "metadata": {
        "colab": {
          "base_uri": "https://localhost:8080/"
        },
        "id": "HYLw9s7vQFZ4",
        "outputId": "af522492-af99-44f5-b31b-31e9db4da588"
      },
      "outputs": [
        {
          "output_type": "stream",
          "name": "stdout",
          "text": [
            "Collecting hmmlearn\n",
            "  Downloading hmmlearn-0.3.2-cp310-cp310-manylinux_2_17_x86_64.manylinux2014_x86_64.whl.metadata (2.9 kB)\n",
            "Requirement already satisfied: numpy>=1.10 in /usr/local/lib/python3.10/dist-packages (from hmmlearn) (1.26.4)\n",
            "Requirement already satisfied: scikit-learn!=0.22.0,>=0.16 in /usr/local/lib/python3.10/dist-packages (from hmmlearn) (1.3.2)\n",
            "Requirement already satisfied: scipy>=0.19 in /usr/local/lib/python3.10/dist-packages (from hmmlearn) (1.13.1)\n",
            "Requirement already satisfied: joblib>=1.1.1 in /usr/local/lib/python3.10/dist-packages (from scikit-learn!=0.22.0,>=0.16->hmmlearn) (1.4.2)\n",
            "Requirement already satisfied: threadpoolctl>=2.0.0 in /usr/local/lib/python3.10/dist-packages (from scikit-learn!=0.22.0,>=0.16->hmmlearn) (3.5.0)\n",
            "Downloading hmmlearn-0.3.2-cp310-cp310-manylinux_2_17_x86_64.manylinux2014_x86_64.whl (161 kB)\n",
            "\u001b[2K   \u001b[90m━━━━━━━━━━━━━━━━━━━━━━━━━━━━━━━━━━━━━━━━\u001b[0m \u001b[32m161.1/161.1 kB\u001b[0m \u001b[31m2.8 MB/s\u001b[0m eta \u001b[36m0:00:00\u001b[0m\n",
            "\u001b[?25hInstalling collected packages: hmmlearn\n",
            "Successfully installed hmmlearn-0.3.2\n"
          ]
        }
      ],
      "source": [
        "#Installing hmmlearn (Hidden Markov Models)\n",
        "! pip install hmmlearn"
      ]
    },
    {
      "cell_type": "code",
      "source": [
        "import numpy as np\n",
        "from hmmlearn import hmm"
      ],
      "metadata": {
        "id": "71MRpGi6RWwx"
      },
      "execution_count": null,
      "outputs": []
    },
    {
      "cell_type": "code",
      "source": [
        "\n",
        "states = [\"Sunny\", \"Rainy\"]\n",
        "no_of_states = len(states)\n",
        "# print(no_of_states)\n",
        "\n",
        "observations = [\"Dry\", \"Damp\", \"Wet\"]\n",
        "no_of_observations = len(observations)\n",
        "# print(no_of_observations)\n"
      ],
      "metadata": {
        "id": "nzRXM1PfRa0c"
      },
      "execution_count": null,
      "outputs": []
    },
    {
      "cell_type": "code",
      "source": [
        "transition_prob = np.array([\n",
        "    [0.7, 0.3],\n",
        "    [0.4, 0.6],\n",
        "])\n",
        "\n",
        "\n",
        "#Emission probabilities (B)\n",
        "emission_prob = np.array([\n",
        "    [0.8, 0.15, 0.05],\n",
        "    [0.1, 0.35, 0.55]\n",
        "])\n",
        "\n",
        "\n",
        "# Initial probabilities (π)\n",
        "start_prob = np.array([0.6, 0.4])\n",
        "\n",
        "\n",
        "# Create HMM model\n",
        "model = hmm.MultinomialHMM(n_components=no_of_states)\n",
        "model.startprob_ = start_prob\n",
        "model.transmat_ = transition_prob\n",
        "model.emissionprob_ = emission_prob\n"
      ],
      "metadata": {
        "id": "ag28QvN2Rghb"
      },
      "execution_count": null,
      "outputs": []
    },
    {
      "cell_type": "code",
      "source": [
        "observation_sequence = np.array([0, 1, 2, 0, 1]).reshape(-1, 1)"
      ],
      "metadata": {
        "id": "syGc32xvRrms"
      },
      "execution_count": null,
      "outputs": []
    },
    {
      "cell_type": "code",
      "source": [
        "# Predict the hidden states based on the observation sequence using the Viterbi algorithm\n",
        "#logprob, hidden_states = model.decode(observation_sequence, algorithm=\"viterbi\")\n",
        "print(\"Observation sequence:\", [observations[i[0]] for i in observation_sequence])\n",
        "#print(\"Predicted hidden states:\", [states[i] for i in hidden_states])\n",
        "\n",
        "# Change the observation sequence and see how the model's predictions change\n",
        "new_observation_sequence = np.array([2, 2, 1, 0]).reshape(-1, 1)  # Example: Wet -> Wet -> Damp -> Dry\n",
        "#logprob_new, hidden_states_new = model.decode(new_observation_sequence, algorithm=\"viterbi\")\n",
        "print(\"New Observation sequence:\", [observations[i[0]] for i in new_observation_sequence])"
      ],
      "metadata": {
        "colab": {
          "base_uri": "https://localhost:8080/"
        },
        "id": "ZRdZzzzQR0XG",
        "outputId": "4b75fe26-8632-4530-bed4-dc38f545984f"
      },
      "execution_count": null,
      "outputs": [
        {
          "output_type": "stream",
          "name": "stdout",
          "text": [
            "Observation sequence: ['Dry', 'Damp', 'Wet', 'Dry', 'Damp']\n",
            "New Observation sequence: ['Wet', 'Wet', 'Damp', 'Dry']\n"
          ]
        }
      ]
    }
  ]
}